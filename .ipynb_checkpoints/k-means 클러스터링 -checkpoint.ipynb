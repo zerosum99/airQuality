{
 "cells": [
  {
   "cell_type": "code",
   "execution_count": 1,
   "id": "6f314263",
   "metadata": {},
   "outputs": [],
   "source": [
    "import pandas as pd\n",
    "import matplotlib.pyplot as plt\n",
    "from sklearn.preprocessing import StandardScaler\n",
    "from sklearn.decomposition import PCA\n",
    "import seaborn as sns\n",
    "import numpy as np"
   ]
  },
  {
   "cell_type": "code",
   "execution_count": 2,
   "id": "a8761d1a",
   "metadata": {},
   "outputs": [],
   "source": [
    "air_data = pd.read_csv('AirQuality_Clean.csv', \n",
    "                       header=None, \n",
    "                       sep = '[,]',\n",
    "                       usecols = [4,5,6,7,8,9,10,11,12,13,14,15,16],\n",
    "                       engine='python')"
   ]
  },
  {
   "cell_type": "code",
   "execution_count": 3,
   "id": "c33e0a4f",
   "metadata": {},
   "outputs": [],
   "source": [
    "air_data.columns = [\"CO\", \"CO_S\", \"NMHC\", \"C6H6\", \"NMHC_S\", \"NOx\", \"NOx_S\", \n",
    "                    \"NO2\", \"NO2_S\", \"O3_S\", \"T\", \"RH\", \"AH\"]"
   ]
  },
  {
   "cell_type": "code",
   "execution_count": 4,
   "id": "3b91fc69",
   "metadata": {},
   "outputs": [],
   "source": [
    "air_data_sensor1 = air_data[['CO_S', 'NMHC_S', 'NOx_S', 'NO2_S', 'O3_S',\n",
    "                             \"T\", \"RH\", \"AH\"]]"
   ]
  },
  {
   "cell_type": "code",
   "execution_count": 5,
   "id": "43959207",
   "metadata": {},
   "outputs": [],
   "source": [
    "x = StandardScaler().fit_transform(air_data_sensor1) "
   ]
  },
  {
   "cell_type": "code",
   "execution_count": 6,
   "id": "c89f5256",
   "metadata": {},
   "outputs": [],
   "source": [
    "#PCA PC1 and PC2\n",
    "pca = PCA(n_components=2)\n",
    "PCs = pca.fit_transform(x)  \n",
    "#print(principalComponents) \n",
    "principalDf = pd.DataFrame(data=PCs, columns=['PC1', 'PC2'])  "
   ]
  },
  {
   "cell_type": "code",
   "execution_count": 7,
   "id": "aed5bbbc",
   "metadata": {},
   "outputs": [],
   "source": [
    "from sklearn.preprocessing import MinMaxScaler\n",
    "\n",
    "data = principalDf.copy()\n",
    "\n",
    "# 정규화 진행\n",
    "scaler = MinMaxScaler()\n",
    "data_scale = scaler.fit_transform(data)"
   ]
  },
  {
   "cell_type": "code",
   "execution_count": 8,
   "id": "96454694",
   "metadata": {},
   "outputs": [
    {
     "data": {
      "text/plain": [
       "(7394, 2)"
      ]
     },
     "execution_count": 8,
     "metadata": {},
     "output_type": "execute_result"
    }
   ],
   "source": [
    "data_scale.shape"
   ]
  },
  {
   "cell_type": "code",
   "execution_count": null,
   "id": "969257b8",
   "metadata": {},
   "outputs": [],
   "source": []
  },
  {
   "cell_type": "code",
   "execution_count": null,
   "id": "63dd68b1",
   "metadata": {},
   "outputs": [],
   "source": []
  },
  {
   "cell_type": "code",
   "execution_count": null,
   "id": "dfbf7cf6",
   "metadata": {},
   "outputs": [],
   "source": [
    "from sklearn.cluster import KMeans\n",
    "\n",
    "k = 3\n",
    "\n",
    "# 그룹 수, random_state 설정\n",
    "model = KMeans(n_clusters = k, random_state = 10)\n",
    "\n",
    "# 정규화된 데이터에 학습\n",
    "model.fit(data_scale)\n",
    "\n",
    "# 클러스터링 결과 각 데이터가 몇 번째 그룹에 속하는지 저장\n",
    "air_data_sensor1['cluster'] = model.fit_predict(data_scale)"
   ]
  },
  {
   "cell_type": "code",
   "execution_count": null,
   "id": "8ddd1ca0",
   "metadata": {},
   "outputs": [],
   "source": []
  },
  {
   "cell_type": "code",
   "execution_count": null,
   "id": "c80b8540",
   "metadata": {},
   "outputs": [],
   "source": [
    "import matplotlib.pyplot as plt\n",
    "\n",
    "plt.figure(figsize = (8, 8))\n",
    "\n",
    "for i in range(k):\n",
    "    plt.scatter(df.loc[df['cluster'] == i, 'Annual Income (k$)'], df.loc[df['cluster'] == i, 'Spending Score (1-100)'], \n",
    "                label = 'cluster ' + str(i))\n",
    "\n",
    "plt.legend()\n",
    "plt.title('K = %d results'%k , size = 15)\n",
    "plt.xlabel('Annual Income', size = 12)\n",
    "plt.ylabel('Spending Score', size = 12)\n",
    "plt.show()\n",
    "\n"
   ]
  },
  {
   "cell_type": "code",
   "execution_count": null,
   "id": "9b344319",
   "metadata": {},
   "outputs": [],
   "source": []
  }
 ],
 "metadata": {
  "kernelspec": {
   "display_name": "Python 3 (ipykernel)",
   "language": "python",
   "name": "python3"
  },
  "language_info": {
   "codemirror_mode": {
    "name": "ipython",
    "version": 3
   },
   "file_extension": ".py",
   "mimetype": "text/x-python",
   "name": "python",
   "nbconvert_exporter": "python",
   "pygments_lexer": "ipython3",
   "version": "3.7.11"
  }
 },
 "nbformat": 4,
 "nbformat_minor": 5
}
