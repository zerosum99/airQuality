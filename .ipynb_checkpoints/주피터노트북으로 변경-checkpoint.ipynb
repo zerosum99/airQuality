{
 "cells": [
  {
   "cell_type": "code",
   "execution_count": null,
   "id": "8ebb4604",
   "metadata": {},
   "outputs": [],
   "source": [
    "# %load AirQualityUCI_ksy PC Q_2.py\n",
    "\"\"\"\n",
    "Created on Sat Mar 19 11:20:57 2022\n",
    "\n",
    "\"\"\"\n",
    "\n",
    "import pandas as pd\n",
    "import matplotlib.pyplot as plt\n",
    "from sklearn.preprocessing import StandardScaler\n",
    "from sklearn.decomposition import PCA\n",
    "import seaborn as sns\n",
    "\n",
    "#%%\n",
    "air_data = pd.read_csv('AirQuality_Clean.csv', \n",
    "                       header=None, \n",
    "                       sep = '[,]',\n",
    "                       usecols = [4,5,6,7,8,9,10,11,12,13,14,15,16],\n",
    "                       engine='python')\n",
    "air_data.columns = [\"CO\", \"CO_S\", \"NMHC\", \"C6H6\", \"NMHC_S\", \"NOx\", \"NOx_S\", \n",
    "                    \"NO2\", \"NO2_S\", \"O3_S\", \"T\", \"RH\", \"AH\"]\n",
    "#print(air_data)\n",
    "\n",
    "\n",
    "air_data_sensor1 = air_data[['CO_S', 'NMHC_S', 'NOx_S', 'NO2_S', 'O3_S',\n",
    "                             \"T\", \"RH\", \"AH\"]]\n",
    "print(air_data_sensor1)\n",
    "#sns.pairplot(air_data_sensor1) \n",
    "#------------------------------------------------------\n",
    "\n",
    "#scaling\n",
    "x = StandardScaler().fit_transform(air_data_sensor1) \n",
    "print(x)\n",
    "\n",
    "#PCA PC1 and PC2\n",
    "pca = PCA(n_components=2)\n",
    "PCs = pca.fit_transform(x)  \n",
    "#print(principalComponents) \n",
    "principalDf = pd.DataFrame(data=PCs, columns=['PC1', 'PC2'])  \n",
    "print(principalDf)  \n",
    "\n",
    "\n",
    "#plt.scatter(x=principalDf['PC1'], y=principalDf['PC2'])\n",
    "sns.relplot(data=principalDf, x='PC1', y='PC2')\n",
    "    \n",
    "# <==여기 PC1, PC2 좌표로 나타낸 2D평면의 값들이 센서신호 8개 중(CO_S, NMHC_S, NOx_S, NO2_S, O3_S, T, RH, AH)\n",
    "# 어느 신호에서 왔는지 그림에서 색깔을 달리하여 구분하려면 어떻게 하면 좋을지요?\n",
    " #-\n",
    "\n",
    "    \n",
    "                                                                                                                                                                       \n",
    "\n",
    "\n",
    "\n",
    "\n",
    "\n",
    "\n",
    "\n"
   ]
  },
  {
   "cell_type": "code",
   "execution_count": 1,
   "id": "8eb6f390",
   "metadata": {},
   "outputs": [],
   "source": [
    "import pandas as pd\n",
    "import matplotlib.pyplot as plt\n",
    "from sklearn.preprocessing import StandardScaler\n",
    "from sklearn.decomposition import PCA\n",
    "import seaborn as sns"
   ]
  },
  {
   "cell_type": "code",
   "execution_count": null,
   "id": "931e58ab",
   "metadata": {},
   "outputs": [],
   "source": []
  },
  {
   "cell_type": "code",
   "execution_count": 11,
   "id": "1c87a9dd",
   "metadata": {},
   "outputs": [
    {
     "data": {
      "text/plain": [
       "Int64Index([0], dtype='int64')"
      ]
     },
     "execution_count": 11,
     "metadata": {},
     "output_type": "execute_result"
    }
   ],
   "source": [
    "air_data.columns"
   ]
  },
  {
   "cell_type": "code",
   "execution_count": 19,
   "id": "954c2c5a",
   "metadata": {},
   "outputs": [],
   "source": [
    "air_data = pd.read_csv('AirQuality_Clean.csv', \n",
    "                       header=None, \n",
    "                       sep = '[,]',\n",
    "                       usecols = [4,5,6,7,8,9,10,11,12,13,14,15,16],\n",
    "                       engine='python')"
   ]
  },
  {
   "cell_type": "code",
   "execution_count": 20,
   "id": "fad25fe1",
   "metadata": {},
   "outputs": [
    {
     "data": {
      "text/plain": [
       "(7394, 13)"
      ]
     },
     "execution_count": 20,
     "metadata": {},
     "output_type": "execute_result"
    }
   ],
   "source": [
    "air_data.shape"
   ]
  },
  {
   "cell_type": "code",
   "execution_count": 21,
   "id": "c5df2b5f",
   "metadata": {},
   "outputs": [
    {
     "data": {
      "text/plain": [
       "Int64Index([4, 5, 6, 7, 8, 9, 10, 11, 12, 13, 14, 15, 16], dtype='int64')"
      ]
     },
     "execution_count": 21,
     "metadata": {},
     "output_type": "execute_result"
    }
   ],
   "source": [
    "air_data.columns"
   ]
  },
  {
   "cell_type": "code",
   "execution_count": 22,
   "id": "748c40b5",
   "metadata": {},
   "outputs": [],
   "source": [
    "air_data.columns = [\"CO\", \"CO_S\", \"NMHC\", \"C6H6\", \"NMHC_S\", \"NOx\", \"NOx_S\", \n",
    "                    \"NO2\", \"NO2_S\", \"O3_S\", \"T\", \"RH\", \"AH\"]"
   ]
  },
  {
   "cell_type": "code",
   "execution_count": 23,
   "id": "65ef2f45",
   "metadata": {},
   "outputs": [
    {
     "data": {
      "text/html": [
       "<div>\n",
       "<style scoped>\n",
       "    .dataframe tbody tr th:only-of-type {\n",
       "        vertical-align: middle;\n",
       "    }\n",
       "\n",
       "    .dataframe tbody tr th {\n",
       "        vertical-align: top;\n",
       "    }\n",
       "\n",
       "    .dataframe thead th {\n",
       "        text-align: right;\n",
       "    }\n",
       "</style>\n",
       "<table border=\"1\" class=\"dataframe\">\n",
       "  <thead>\n",
       "    <tr style=\"text-align: right;\">\n",
       "      <th></th>\n",
       "      <th>CO</th>\n",
       "      <th>CO_S</th>\n",
       "      <th>NMHC</th>\n",
       "      <th>C6H6</th>\n",
       "      <th>NMHC_S</th>\n",
       "      <th>NOx</th>\n",
       "      <th>NOx_S</th>\n",
       "      <th>NO2</th>\n",
       "      <th>NO2_S</th>\n",
       "      <th>O3_S</th>\n",
       "      <th>T</th>\n",
       "      <th>RH</th>\n",
       "      <th>AH</th>\n",
       "    </tr>\n",
       "  </thead>\n",
       "  <tbody>\n",
       "    <tr>\n",
       "      <th>0</th>\n",
       "      <td>2.9</td>\n",
       "      <td>1383</td>\n",
       "      <td>150.0</td>\n",
       "      <td>11.2</td>\n",
       "      <td>1020</td>\n",
       "      <td>243.0</td>\n",
       "      <td>1008</td>\n",
       "      <td>135.0</td>\n",
       "      <td>1719</td>\n",
       "      <td>1104</td>\n",
       "      <td>9.8</td>\n",
       "      <td>67.6</td>\n",
       "      <td>0.8185</td>\n",
       "    </tr>\n",
       "    <tr>\n",
       "      <th>1</th>\n",
       "      <td>4.8</td>\n",
       "      <td>1581</td>\n",
       "      <td>307.0</td>\n",
       "      <td>20.8</td>\n",
       "      <td>1319</td>\n",
       "      <td>281.0</td>\n",
       "      <td>799</td>\n",
       "      <td>151.0</td>\n",
       "      <td>2083</td>\n",
       "      <td>1409</td>\n",
       "      <td>10.3</td>\n",
       "      <td>64.2</td>\n",
       "      <td>0.8065</td>\n",
       "    </tr>\n",
       "    <tr>\n",
       "      <th>2</th>\n",
       "      <td>6.9</td>\n",
       "      <td>1776</td>\n",
       "      <td>461.0</td>\n",
       "      <td>27.4</td>\n",
       "      <td>1488</td>\n",
       "      <td>383.0</td>\n",
       "      <td>702</td>\n",
       "      <td>172.0</td>\n",
       "      <td>2333</td>\n",
       "      <td>1704</td>\n",
       "      <td>9.7</td>\n",
       "      <td>69.3</td>\n",
       "      <td>0.8319</td>\n",
       "    </tr>\n",
       "    <tr>\n",
       "      <th>3</th>\n",
       "      <td>6.1</td>\n",
       "      <td>1640</td>\n",
       "      <td>401.0</td>\n",
       "      <td>24.0</td>\n",
       "      <td>1404</td>\n",
       "      <td>351.0</td>\n",
       "      <td>743</td>\n",
       "      <td>165.0</td>\n",
       "      <td>2191</td>\n",
       "      <td>1654</td>\n",
       "      <td>9.6</td>\n",
       "      <td>67.8</td>\n",
       "      <td>0.8133</td>\n",
       "    </tr>\n",
       "    <tr>\n",
       "      <th>4</th>\n",
       "      <td>3.9</td>\n",
       "      <td>1313</td>\n",
       "      <td>197.0</td>\n",
       "      <td>12.8</td>\n",
       "      <td>1076</td>\n",
       "      <td>240.0</td>\n",
       "      <td>957</td>\n",
       "      <td>136.0</td>\n",
       "      <td>1707</td>\n",
       "      <td>1285</td>\n",
       "      <td>9.1</td>\n",
       "      <td>64.0</td>\n",
       "      <td>0.7419</td>\n",
       "    </tr>\n",
       "  </tbody>\n",
       "</table>\n",
       "</div>"
      ],
      "text/plain": [
       "    CO  CO_S   NMHC  C6H6  NMHC_S    NOx  NOx_S    NO2  NO2_S  O3_S     T  \\\n",
       "0  2.9  1383  150.0  11.2    1020  243.0   1008  135.0   1719  1104   9.8   \n",
       "1  4.8  1581  307.0  20.8    1319  281.0    799  151.0   2083  1409  10.3   \n",
       "2  6.9  1776  461.0  27.4    1488  383.0    702  172.0   2333  1704   9.7   \n",
       "3  6.1  1640  401.0  24.0    1404  351.0    743  165.0   2191  1654   9.6   \n",
       "4  3.9  1313  197.0  12.8    1076  240.0    957  136.0   1707  1285   9.1   \n",
       "\n",
       "     RH      AH  \n",
       "0  67.6  0.8185  \n",
       "1  64.2  0.8065  \n",
       "2  69.3  0.8319  \n",
       "3  67.8  0.8133  \n",
       "4  64.0  0.7419  "
      ]
     },
     "execution_count": 23,
     "metadata": {},
     "output_type": "execute_result"
    }
   ],
   "source": [
    "air_data.head()"
   ]
  },
  {
   "cell_type": "code",
   "execution_count": 24,
   "id": "51521736",
   "metadata": {},
   "outputs": [],
   "source": [
    "air_data_sensor1 = air_data[['CO_S', 'NMHC_S', 'NOx_S', 'NO2_S', 'O3_S',\n",
    "                             \"T\", \"RH\", \"AH\"]]"
   ]
  },
  {
   "cell_type": "code",
   "execution_count": 26,
   "id": "749f5361",
   "metadata": {},
   "outputs": [
    {
     "data": {
      "text/html": [
       "<div>\n",
       "<style scoped>\n",
       "    .dataframe tbody tr th:only-of-type {\n",
       "        vertical-align: middle;\n",
       "    }\n",
       "\n",
       "    .dataframe tbody tr th {\n",
       "        vertical-align: top;\n",
       "    }\n",
       "\n",
       "    .dataframe thead th {\n",
       "        text-align: right;\n",
       "    }\n",
       "</style>\n",
       "<table border=\"1\" class=\"dataframe\">\n",
       "  <thead>\n",
       "    <tr style=\"text-align: right;\">\n",
       "      <th></th>\n",
       "      <th>CO_S</th>\n",
       "      <th>NMHC_S</th>\n",
       "      <th>NOx_S</th>\n",
       "      <th>NO2_S</th>\n",
       "      <th>O3_S</th>\n",
       "      <th>T</th>\n",
       "      <th>RH</th>\n",
       "      <th>AH</th>\n",
       "    </tr>\n",
       "  </thead>\n",
       "  <tbody>\n",
       "    <tr>\n",
       "      <th>0</th>\n",
       "      <td>1383</td>\n",
       "      <td>1020</td>\n",
       "      <td>1008</td>\n",
       "      <td>1719</td>\n",
       "      <td>1104</td>\n",
       "      <td>9.8</td>\n",
       "      <td>67.6</td>\n",
       "      <td>0.8185</td>\n",
       "    </tr>\n",
       "    <tr>\n",
       "      <th>1</th>\n",
       "      <td>1581</td>\n",
       "      <td>1319</td>\n",
       "      <td>799</td>\n",
       "      <td>2083</td>\n",
       "      <td>1409</td>\n",
       "      <td>10.3</td>\n",
       "      <td>64.2</td>\n",
       "      <td>0.8065</td>\n",
       "    </tr>\n",
       "    <tr>\n",
       "      <th>2</th>\n",
       "      <td>1776</td>\n",
       "      <td>1488</td>\n",
       "      <td>702</td>\n",
       "      <td>2333</td>\n",
       "      <td>1704</td>\n",
       "      <td>9.7</td>\n",
       "      <td>69.3</td>\n",
       "      <td>0.8319</td>\n",
       "    </tr>\n",
       "    <tr>\n",
       "      <th>3</th>\n",
       "      <td>1640</td>\n",
       "      <td>1404</td>\n",
       "      <td>743</td>\n",
       "      <td>2191</td>\n",
       "      <td>1654</td>\n",
       "      <td>9.6</td>\n",
       "      <td>67.8</td>\n",
       "      <td>0.8133</td>\n",
       "    </tr>\n",
       "    <tr>\n",
       "      <th>4</th>\n",
       "      <td>1313</td>\n",
       "      <td>1076</td>\n",
       "      <td>957</td>\n",
       "      <td>1707</td>\n",
       "      <td>1285</td>\n",
       "      <td>9.1</td>\n",
       "      <td>64.0</td>\n",
       "      <td>0.7419</td>\n",
       "    </tr>\n",
       "  </tbody>\n",
       "</table>\n",
       "</div>"
      ],
      "text/plain": [
       "   CO_S  NMHC_S  NOx_S  NO2_S  O3_S     T    RH      AH\n",
       "0  1383    1020   1008   1719  1104   9.8  67.6  0.8185\n",
       "1  1581    1319    799   2083  1409  10.3  64.2  0.8065\n",
       "2  1776    1488    702   2333  1704   9.7  69.3  0.8319\n",
       "3  1640    1404    743   2191  1654   9.6  67.8  0.8133\n",
       "4  1313    1076    957   1707  1285   9.1  64.0  0.7419"
      ]
     },
     "execution_count": 26,
     "metadata": {},
     "output_type": "execute_result"
    }
   ],
   "source": [
    "air_data_sensor1.head()"
   ]
  },
  {
   "cell_type": "code",
   "execution_count": 27,
   "id": "6f015218",
   "metadata": {},
   "outputs": [
    {
     "data": {
      "text/plain": [
       "(7394, 8)"
      ]
     },
     "execution_count": 27,
     "metadata": {},
     "output_type": "execute_result"
    }
   ],
   "source": [
    "air_data_sensor1.shape"
   ]
  },
  {
   "cell_type": "code",
   "execution_count": 28,
   "id": "0ed24e11",
   "metadata": {},
   "outputs": [],
   "source": [
    "#scaling\n",
    "x = StandardScaler().fit_transform(air_data_sensor1) "
   ]
  },
  {
   "cell_type": "code",
   "execution_count": 30,
   "id": "50155f71",
   "metadata": {},
   "outputs": [],
   "source": [
    "df_x = pd.DataFrame(x)"
   ]
  },
  {
   "cell_type": "code",
   "execution_count": 32,
   "id": "1aff4495",
   "metadata": {},
   "outputs": [],
   "source": [
    "df_x.columns = ['CO_S', 'NMHC_S', 'NOx_S', 'NO2_S', 'O3_S',\"T\", \"RH\", \"AH\"]"
   ]
  },
  {
   "cell_type": "code",
   "execution_count": 33,
   "id": "4a1ff064",
   "metadata": {},
   "outputs": [
    {
     "data": {
      "text/html": [
       "<div>\n",
       "<style scoped>\n",
       "    .dataframe tbody tr th:only-of-type {\n",
       "        vertical-align: middle;\n",
       "    }\n",
       "\n",
       "    .dataframe tbody tr th {\n",
       "        vertical-align: top;\n",
       "    }\n",
       "\n",
       "    .dataframe thead th {\n",
       "        text-align: right;\n",
       "    }\n",
       "</style>\n",
       "<table border=\"1\" class=\"dataframe\">\n",
       "  <thead>\n",
       "    <tr style=\"text-align: right;\">\n",
       "      <th></th>\n",
       "      <th>CO_S</th>\n",
       "      <th>NMHC_S</th>\n",
       "      <th>NOx_S</th>\n",
       "      <th>NO2_S</th>\n",
       "      <th>O3_S</th>\n",
       "      <th>T</th>\n",
       "      <th>RH</th>\n",
       "      <th>AH</th>\n",
       "    </tr>\n",
       "  </thead>\n",
       "  <tbody>\n",
       "    <tr>\n",
       "      <th>0</th>\n",
       "      <td>1.245780</td>\n",
       "      <td>0.263902</td>\n",
       "      <td>0.709110</td>\n",
       "      <td>0.755681</td>\n",
       "      <td>0.145767</td>\n",
       "      <td>-0.907179</td>\n",
       "      <td>1.075158</td>\n",
       "      <td>-0.438006</td>\n",
       "    </tr>\n",
       "    <tr>\n",
       "      <th>1</th>\n",
       "      <td>2.152634</td>\n",
       "      <td>1.388780</td>\n",
       "      <td>-0.102763</td>\n",
       "      <td>1.785923</td>\n",
       "      <td>0.896942</td>\n",
       "      <td>-0.851623</td>\n",
       "      <td>0.880758</td>\n",
       "      <td>-0.467741</td>\n",
       "    </tr>\n",
       "    <tr>\n",
       "      <th>2</th>\n",
       "      <td>3.045748</td>\n",
       "      <td>2.024581</td>\n",
       "      <td>-0.479566</td>\n",
       "      <td>2.493506</td>\n",
       "      <td>1.623489</td>\n",
       "      <td>-0.918290</td>\n",
       "      <td>1.172358</td>\n",
       "      <td>-0.404802</td>\n",
       "    </tr>\n",
       "    <tr>\n",
       "      <th>3</th>\n",
       "      <td>2.422858</td>\n",
       "      <td>1.708562</td>\n",
       "      <td>-0.320299</td>\n",
       "      <td>2.091599</td>\n",
       "      <td>1.500346</td>\n",
       "      <td>-0.929402</td>\n",
       "      <td>1.086594</td>\n",
       "      <td>-0.450891</td>\n",
       "    </tr>\n",
       "    <tr>\n",
       "      <th>4</th>\n",
       "      <td>0.925175</td>\n",
       "      <td>0.474581</td>\n",
       "      <td>0.510997</td>\n",
       "      <td>0.721717</td>\n",
       "      <td>0.591546</td>\n",
       "      <td>-0.984958</td>\n",
       "      <td>0.869323</td>\n",
       "      <td>-0.627815</td>\n",
       "    </tr>\n",
       "  </tbody>\n",
       "</table>\n",
       "</div>"
      ],
      "text/plain": [
       "       CO_S    NMHC_S     NOx_S     NO2_S      O3_S         T        RH  \\\n",
       "0  1.245780  0.263902  0.709110  0.755681  0.145767 -0.907179  1.075158   \n",
       "1  2.152634  1.388780 -0.102763  1.785923  0.896942 -0.851623  0.880758   \n",
       "2  3.045748  2.024581 -0.479566  2.493506  1.623489 -0.918290  1.172358   \n",
       "3  2.422858  1.708562 -0.320299  2.091599  1.500346 -0.929402  1.086594   \n",
       "4  0.925175  0.474581  0.510997  0.721717  0.591546 -0.984958  0.869323   \n",
       "\n",
       "         AH  \n",
       "0 -0.438006  \n",
       "1 -0.467741  \n",
       "2 -0.404802  \n",
       "3 -0.450891  \n",
       "4 -0.627815  "
      ]
     },
     "execution_count": 33,
     "metadata": {},
     "output_type": "execute_result"
    }
   ],
   "source": [
    "df_x.head()"
   ]
  },
  {
   "cell_type": "code",
   "execution_count": null,
   "id": "3bcc795a",
   "metadata": {},
   "outputs": [],
   "source": []
  },
  {
   "cell_type": "code",
   "execution_count": 34,
   "id": "f5046b7c",
   "metadata": {},
   "outputs": [],
   "source": [
    "#PCA PC1 and PC2\n",
    "pca = PCA(n_components=2)\n",
    "PCs = pca.fit_transform(x)  \n",
    "#print(principalComponents) \n",
    "principalDf = pd.DataFrame(data=PCs, columns=['PC1', 'PC2'])  "
   ]
  },
  {
   "cell_type": "code",
   "execution_count": 35,
   "id": "aad31f83",
   "metadata": {},
   "outputs": [
    {
     "data": {
      "text/html": [
       "<div>\n",
       "<style scoped>\n",
       "    .dataframe tbody tr th:only-of-type {\n",
       "        vertical-align: middle;\n",
       "    }\n",
       "\n",
       "    .dataframe tbody tr th {\n",
       "        vertical-align: top;\n",
       "    }\n",
       "\n",
       "    .dataframe thead th {\n",
       "        text-align: right;\n",
       "    }\n",
       "</style>\n",
       "<table border=\"1\" class=\"dataframe\">\n",
       "  <thead>\n",
       "    <tr style=\"text-align: right;\">\n",
       "      <th></th>\n",
       "      <th>PC1</th>\n",
       "      <th>PC2</th>\n",
       "    </tr>\n",
       "  </thead>\n",
       "  <tbody>\n",
       "    <tr>\n",
       "      <th>0</th>\n",
       "      <td>0.533943</td>\n",
       "      <td>-1.240860</td>\n",
       "    </tr>\n",
       "    <tr>\n",
       "      <th>1</th>\n",
       "      <td>2.532801</td>\n",
       "      <td>-1.465724</td>\n",
       "    </tr>\n",
       "    <tr>\n",
       "      <th>2</th>\n",
       "      <td>3.984877</td>\n",
       "      <td>-1.900278</td>\n",
       "    </tr>\n",
       "    <tr>\n",
       "      <th>3</th>\n",
       "      <td>3.266915</td>\n",
       "      <td>-1.786801</td>\n",
       "    </tr>\n",
       "    <tr>\n",
       "      <th>4</th>\n",
       "      <td>0.690871</td>\n",
       "      <td>-1.398472</td>\n",
       "    </tr>\n",
       "  </tbody>\n",
       "</table>\n",
       "</div>"
      ],
      "text/plain": [
       "        PC1       PC2\n",
       "0  0.533943 -1.240860\n",
       "1  2.532801 -1.465724\n",
       "2  3.984877 -1.900278\n",
       "3  3.266915 -1.786801\n",
       "4  0.690871 -1.398472"
      ]
     },
     "execution_count": 35,
     "metadata": {},
     "output_type": "execute_result"
    }
   ],
   "source": [
    "principalDf.head()"
   ]
  },
  {
   "cell_type": "code",
   "execution_count": 36,
   "id": "2bccf5ca",
   "metadata": {},
   "outputs": [
    {
     "data": {
      "text/plain": [
       "<seaborn.axisgrid.FacetGrid at 0x7fd76c6bc3d0>"
      ]
     },
     "execution_count": 36,
     "metadata": {},
     "output_type": "execute_result"
    },
    {
     "data": {
      "image/png": "[encoded data removed]",
      "text/plain": [
       "<Figure size 360x360 with 1 Axes>"
      ]
     },
     "metadata": {
      "needs_background": "light"
     },
     "output_type": "display_data"
    }
   ],
   "source": [
    "sns.relplot(data=principalDf, x='PC1', y='PC2')"
   ]
  },
  {
   "cell_type": "code",
   "execution_count": null,
   "id": "0256c3a5",
   "metadata": {},
   "outputs": [],
   "source": []
  }
 ],
 "metadata": {
  "kernelspec": {
   "display_name": "Python 3 (ipykernel)",
   "language": "python",
   "name": "python3"
  },
  "language_info": {
   "codemirror_mode": {
    "name": "ipython",
    "version": 3
   },
   "file_extension": ".py",
   "mimetype": "text/x-python",
   "name": "python",
   "nbconvert_exporter": "python",
   "pygments_lexer": "ipython3",
   "version": "3.7.11"
  }
 },
 "nbformat": 4,
 "nbformat_minor": 5
}
